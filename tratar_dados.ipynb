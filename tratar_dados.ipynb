{
 "cells": [
  {
   "cell_type": "code",
   "execution_count": 2,
   "id": "7ded0eaa-a9e7-4dee-91f6-929bf9785f3c",
   "metadata": {},
   "outputs": [],
   "source": [
    "import pandas as pd\n",
    "import re\n",
    "import requests\n",
    "from datetime import datetime\n",
    "import time\n",
    "import random"
   ]
  },
  {
   "cell_type": "code",
   "execution_count": 3,
   "id": "b0cedf65-4a71-46e9-947e-68f6339dc450",
   "metadata": {},
   "outputs": [],
   "source": [
    "url = 'https://docs.google.com/spreadsheets/d/13xMEbJCrMzxJheEn09Ctt0HwIfzg8jjC/export?format=csv'\n",
    "df = pd.read_csv(url)"
   ]
  },
  {
   "cell_type": "code",
   "execution_count": 4,
   "id": "2bd09158-e05c-41f1-b23c-3001fd0ff259",
   "metadata": {},
   "outputs": [],
   "source": [
    "df = df.drop(['Nº', 'cÂMARA OU SENADO', 'Descrição ', 'Andamento do PL ', 'Observações andamento '], axis=1)"
   ]
  },
  {
   "cell_type": "code",
   "execution_count": 5,
   "id": "6ee59813-8389-4ef5-a208-26605e48ed27",
   "metadata": {},
   "outputs": [],
   "source": [
    "DEFAULT_TIMEOUT = 15  # segundos\n",
    "MAX_TRIES = 5         # tentativas totais\n",
    "\n",
    "def http_get(url, params=None, timeout=DEFAULT_TIMEOUT, max_tries=MAX_TRIES):\n",
    "    \"\"\"\n",
    "    GET com retry exponencial + jitter e timeouts.\n",
    "    Levanta a última exceção se esgotar tentativas.\n",
    "    \"\"\"\n",
    "    last_exc = None\n",
    "    for attempt in range(1, max_tries + 1):\n",
    "        try:\n",
    "            resp = requests.get(\n",
    "                url,\n",
    "                params=params,\n",
    "                headers={\"User-Agent\": \"DELOG-PL-Monitor/1.0\"},\n",
    "                timeout=timeout,\n",
    "            )\n",
    "            # Considera 5xx e 429 como transitórios\n",
    "            if resp.status_code in (429, 500, 502, 503, 504):\n",
    "                raise requests.HTTPError(f\"HTTP {resp.status_code}\", response=resp)\n",
    "            resp.raise_for_status()\n",
    "            return resp\n",
    "        except (requests.Timeout, requests.ConnectionError, requests.HTTPError) as e:\n",
    "            last_exc = e\n",
    "            if attempt == max_tries:\n",
    "                break\n",
    "            # backoff exponencial com jitter (base 1s): 1, 2, 4, 8...\n",
    "            sleep_s = (2 ** (attempt - 1)) + random.uniform(0, 0.5)\n",
    "            time.sleep(sleep_s)\n",
    "    # esgotou\n",
    "    raise last_exc"
   ]
  },
  {
   "cell_type": "code",
   "execution_count": 6,
   "id": "40f4527f-17d5-4cb5-8a4f-78f54f17defa",
   "metadata": {},
   "outputs": [],
   "source": [
    "def renomear_unnamed(df: pd.DataFrame) -> pd.DataFrame:\n",
    "    \"\"\"\n",
    "    Renomeia colunas 'Unnamed' para o mesmo nome do último '<nº Encaminhamento>' encontrado.\n",
    "    Exemplo: 'Unnamed: 7', 'Unnamed: 8', 'Unnamed: 9' -> '1º Encaminhamento'\n",
    "    \"\"\"\n",
    "    cols = list(df.columns)\n",
    "    novos = {}\n",
    "    grupo_atual = None\n",
    "\n",
    "    for c in cols:\n",
    "        nome = c.strip() if isinstance(c, str) else c\n",
    "\n",
    "        # detecta \"nº Encaminhamento\" (1º, 2º, 3º...)\n",
    "        if isinstance(nome, str) and re.match(r'^\\d+º\\s*Encaminhamento', nome, flags=re.I):\n",
    "            grupo_atual = re.sub(r'\\s+', ' ', nome).strip()\n",
    "            continue\n",
    "\n",
    "        # se for Unnamed e há um grupo em curso, renomeia para o grupo\n",
    "        if grupo_atual and isinstance(nome, str) and nome.lower().startswith('unnamed'):\n",
    "            novos[c] = grupo_atual\n",
    "        else:\n",
    "            # se vier coluna normal, limpa grupo\n",
    "            if not (isinstance(nome, str) and nome.lower().startswith('unnamed')):\n",
    "                grupo_atual = None\n",
    "\n",
    "    return df.rename(columns=novos)"
   ]
  },
  {
   "cell_type": "code",
   "execution_count": 7,
   "id": "38ff692c-c987-4d6a-a131-ca772b1a40dc",
   "metadata": {},
   "outputs": [],
   "source": [
    "def extrair_num_ano(texto):\n",
    "    \"\"\"\n",
    "    Extrai o número e o ano do PL a partir de uma string textual.\n",
    "    Retorna (numero, ano) como strings, ou (None, None) se não encontrar.\n",
    "    \"\"\"\n",
    "    if not isinstance(texto, str):\n",
    "        return None, None\n",
    "    \n",
    "    # Expressão regular que pega formatos como:\n",
    "    # \"PL nº 4603/2023\", \"PLnº2633/2020\", \"PL nº 2789, de 2021\", etc.\n",
    "    padrao = re.search(r'(\\d{1,4}(?:\\.\\d{3})?)[^\\d]*(?:\\/|, de )\\s*(\\d{4})', texto)\n",
    "    if padrao:\n",
    "        numero = padrao.group(1).replace('.', '')  # Remove ponto se existir (ex: 1.498 → 1498)\n",
    "        ano = padrao.group(2)\n",
    "        return numero, ano\n",
    "    return None, None"
   ]
  },
  {
   "cell_type": "code",
   "execution_count": 8,
   "id": "3dcfee4c-e0a9-421d-ad42-ee80b0ca6023",
   "metadata": {},
   "outputs": [],
   "source": [
    "df[[\"numero_pl\", \"ano_pl\"]] = df[\"Projeto de LEI \"].apply(lambda x: pd.Series(extrair_num_ano(x)))"
   ]
  },
  {
   "cell_type": "code",
   "execution_count": 9,
   "id": "a326bec1-ba2c-448f-9314-42d39693303c",
   "metadata": {},
   "outputs": [],
   "source": [
    "def buscar_info_pl(numero, ano):\n",
    "    # 1) Buscar ID da proposição\n",
    "    url_busca = \"https://dadosabertos.camara.leg.br/api/v2/proposicoes\"\n",
    "    params = {\"siglaTipo\": \"PL\", \"numero\": numero, \"ano\": ano}\n",
    "\n",
    "    try:\n",
    "        res = http_get(url_busca, params=params)\n",
    "        payload = res.json()\n",
    "        dados = payload.get(\"dados\", [])\n",
    "        if not dados:\n",
    "            return None\n",
    "        proposicao = dados[0]\n",
    "        id_prop = proposicao.get(\"id\")\n",
    "        if not id_prop:\n",
    "            return None\n",
    "\n",
    "        # 2) Detalhes\n",
    "        det = http_get(f\"https://dadosabertos.camara.leg.br/api/v2/proposicoes/{id_prop}\").json().get(\"dados\", {}) or {}\n",
    "        status = det.get(\"statusProposicao\", {}) or {}\n",
    "        link_inteiro_teor_pl = det.get(\"urlInteiroTeor\") or \"\"\n",
    "        link_ficha = det.get(\"uri\") or f\"https://www.camara.leg.br/propostas-legislativas/{id_prop}\"\n",
    "\n",
    "        # 3) Última tramitação\n",
    "        data_tramit = status.get(\"dataHora\") or \"\"\n",
    "        sigla_orgao = status.get(\"siglaOrgao\", \"\")\n",
    "        situacao_tramit = status.get(\"descricaoSituacao\", \"\")\n",
    "\n",
    "        # 4) Parecer aprovado (exemplo simples; adapte se precisar de regra mais elaborada)\n",
    "        parecer_data = \"\"\n",
    "        parecer_orgao = \"\"\n",
    "        parecer_despacho = \"\"\n",
    "        parecer_url = \"\"\n",
    "\n",
    "        try:\n",
    "            tramitacoes = http_get(f\"https://dadosabertos.camara.leg.br/api/v2/proposicoes/{id_prop}/tramitacoes\").json().get(\"dados\", []) or []\n",
    "            for t in tramitacoes:\n",
    "                desp = (t.get(\"despacho\") or \"\").lower()\n",
    "                mov = (t.get(\"descricaoTramitacao\") or \"\").lower()\n",
    "                if \"parecer\" in desp or \"parecer\" in mov:\n",
    "                    parecer_data = t.get(\"dataHora\", \"\") or \"\"\n",
    "                    parecer_orgao = t.get(\"siglaOrgao\", \"\") or \"\"\n",
    "                    parecer_despacho = t.get(\"despacho\", \"\") or t.get(\"descricaoTramitacao\", \"\")\n",
    "                    # tentativa de link do parecer nos documentos da tramitação (quando existir)\n",
    "                    doclist = t.get(\"documentos\", []) or []\n",
    "                    if isinstance(doclist, list) and doclist:\n",
    "                        # pega o primeiro com URL\n",
    "                        for d in doclist:\n",
    "                            u = d.get(\"url\", \"\")\n",
    "                            if u:\n",
    "                                parecer_url = u\n",
    "                                break\n",
    "                    break\n",
    "        except Exception:\n",
    "            # não derruba o fluxo se a busca de tramitações falhar\n",
    "            pass\n",
    "\n",
    "        return {\n",
    "            \"Projeto de Lei\": f'{proposicao.get(\"siglaTipo\",\"PL\")} {proposicao.get(\"numero\",\"\")}/{proposicao.get(\"ano\",\"\")}',\n",
    "            \"Ementa\": proposicao.get(\"ementa\", \"\"),\n",
    "            \"Data Última Tramitação\": data_tramit,\n",
    "            \"Órgão Última Tramitação\": sigla_orgao,\n",
    "            \"Situação Última Tramitação\": situacao_tramit,\n",
    "            \"Data Parecer Aprovado\": parecer_data,\n",
    "            \"Órgão Parecer\": parecer_orgao,\n",
    "            \"Despacho Parecer\": parecer_despacho,\n",
    "            \"Link Inteiro Teor Parecer\": parecer_url,\n",
    "            \"Link Inteiro Teor do PL\": link_inteiro_teor_pl,\n",
    "            \"Link Ficha de Tramitação\": link_ficha,\n",
    "        }\n",
    "\n",
    "    except Exception:\n",
    "        # Falha transitória mesmo após retries: retorna None para pular o registro\n",
    "        return None"
   ]
  },
  {
   "cell_type": "code",
   "execution_count": 10,
   "id": "82f3dc34-1dbd-4ccf-8fc7-8d42e72a1f7a",
   "metadata": {},
   "outputs": [],
   "source": [
    "# Buscar dados\n",
    "resultados = []\n",
    "for _, row in df.iterrows():\n",
    "    info = buscar_info_pl(row[\"numero_pl\"], row[\"ano_pl\"])\n",
    "    if info is not None:\n",
    "        resultados.append(info)\n",
    "    time.sleep(0.1)  # só para ser \"educado\"; o http_get já faz backoff\n",
    "df_info = pd.DataFrame(resultados)"
   ]
  },
  {
   "cell_type": "code",
   "execution_count": 11,
   "id": "9efb5b82-c1fa-41a2-a0f3-b8eb7578fe95",
   "metadata": {},
   "outputs": [],
   "source": [
    "df_info[[\"numero_pl\", \"ano_pl\"]] = df_info[\"Projeto de Lei\"].str.extract(r'(\\d+)/(\\d+)')"
   ]
  },
  {
   "cell_type": "code",
   "execution_count": 12,
   "id": "b3c7f35e-77f0-41f3-a55a-1dac3dd55ee9",
   "metadata": {},
   "outputs": [],
   "source": [
    "df_final = pd.merge(df, df_info, on=[\"numero_pl\", \"ano_pl\"], how=\"left\")"
   ]
  },
  {
   "cell_type": "code",
   "execution_count": 13,
   "id": "b2a36ab8-8f1a-4034-bf92-3e53ddb4c090",
   "metadata": {},
   "outputs": [],
   "source": [
    "df_final = df_final.drop(columns=[\"numero_pl\", \"ano_pl\"])"
   ]
  },
  {
   "cell_type": "code",
   "execution_count": 14,
   "id": "77e280ab-c594-46c5-b56c-43a3b80efbac",
   "metadata": {},
   "outputs": [],
   "source": [
    "df_final = renomear_unnamed(df_final)"
   ]
  },
  {
   "cell_type": "code",
   "execution_count": 15,
   "id": "b51c406e-a7af-4c35-a775-d33ff7d9eca6",
   "metadata": {},
   "outputs": [],
   "source": [
    "# normaliza nomes: remove espaços laterais\n",
    "df_final.columns = [c.strip() if isinstance(c, str) else c for c in df_final.columns]\n",
    "\n",
    "# remove duplicata antiga, se existir\n",
    "for dup in [\"Projeto de LEI\", \"Projeto de LEI \"]:\n",
    "    if dup in df_final.columns:\n",
    "        df_final = df_final.drop(columns=[dup])"
   ]
  },
  {
   "cell_type": "code",
   "execution_count": 20,
   "id": "97d167f4-8aa0-463b-89c9-0fa759435562",
   "metadata": {},
   "outputs": [],
   "source": [
    "df_final.to_csv(\"data/df_final.csv\", index=False, encoding=\"utf-8-sig\")"
   ]
  }
 ],
 "metadata": {
  "kernelspec": {
   "display_name": "Python 3 (ipykernel)",
   "language": "python",
   "name": "python3"
  },
  "language_info": {
   "codemirror_mode": {
    "name": "ipython",
    "version": 3
   },
   "file_extension": ".py",
   "mimetype": "text/x-python",
   "name": "python",
   "nbconvert_exporter": "python",
   "pygments_lexer": "ipython3",
   "version": "3.9.6"
  }
 },
 "nbformat": 4,
 "nbformat_minor": 5
}
